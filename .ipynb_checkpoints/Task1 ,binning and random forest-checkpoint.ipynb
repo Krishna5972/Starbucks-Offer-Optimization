{
 "cells": [
  {
   "cell_type": "code",
   "execution_count": 1,
   "id": "fa2054aa",
   "metadata": {},
   "outputs": [],
   "source": [
    "import pandas as pd"
   ]
  },
  {
   "cell_type": "code",
   "execution_count": 2,
   "id": "2de66693",
   "metadata": {},
   "outputs": [],
   "source": [
    "master_df=pd.read_csv('data/master_df.csv')"
   ]
  },
  {
   "cell_type": "code",
   "execution_count": 3,
   "id": "cd1b0b21",
   "metadata": {},
   "outputs": [],
   "source": [
    "nb_age=5\n",
    "nb_income=4"
   ]
  },
  {
   "cell_type": "code",
   "execution_count": 4,
   "id": "7df27aed",
   "metadata": {},
   "outputs": [
    {
     "data": {
      "text/html": [
       "<div>\n",
       "<style scoped>\n",
       "    .dataframe tbody tr th:only-of-type {\n",
       "        vertical-align: middle;\n",
       "    }\n",
       "\n",
       "    .dataframe tbody tr th {\n",
       "        vertical-align: top;\n",
       "    }\n",
       "\n",
       "    .dataframe thead th {\n",
       "        text-align: right;\n",
       "    }\n",
       "</style>\n",
       "<table border=\"1\" class=\"dataframe\">\n",
       "  <thead>\n",
       "    <tr style=\"text-align: right;\">\n",
       "      <th></th>\n",
       "      <th>customer_id</th>\n",
       "      <th>age</th>\n",
       "      <th>gender</th>\n",
       "      <th>income</th>\n",
       "      <th>years_member</th>\n",
       "      <th>offer_complete_status</th>\n",
       "      <th>offer_id</th>\n",
       "      <th>reward</th>\n",
       "      <th>difficulty</th>\n",
       "      <th>duration</th>\n",
       "      <th>email</th>\n",
       "      <th>mobile</th>\n",
       "      <th>social</th>\n",
       "      <th>web</th>\n",
       "      <th>bogo</th>\n",
       "      <th>informational</th>\n",
       "      <th>discount</th>\n",
       "    </tr>\n",
       "  </thead>\n",
       "  <tbody>\n",
       "    <tr>\n",
       "      <th>0</th>\n",
       "      <td>4</td>\n",
       "      <td>75</td>\n",
       "      <td>F</td>\n",
       "      <td>100000</td>\n",
       "      <td>5</td>\n",
       "      <td>1</td>\n",
       "      <td>1</td>\n",
       "      <td>10</td>\n",
       "      <td>10</td>\n",
       "      <td>168</td>\n",
       "      <td>1</td>\n",
       "      <td>1</td>\n",
       "      <td>1</td>\n",
       "      <td>0</td>\n",
       "      <td>1</td>\n",
       "      <td>0</td>\n",
       "      <td>0</td>\n",
       "    </tr>\n",
       "    <tr>\n",
       "      <th>1</th>\n",
       "      <td>14</td>\n",
       "      <td>61</td>\n",
       "      <td>F</td>\n",
       "      <td>57000</td>\n",
       "      <td>5</td>\n",
       "      <td>1</td>\n",
       "      <td>1</td>\n",
       "      <td>10</td>\n",
       "      <td>10</td>\n",
       "      <td>168</td>\n",
       "      <td>1</td>\n",
       "      <td>1</td>\n",
       "      <td>1</td>\n",
       "      <td>0</td>\n",
       "      <td>1</td>\n",
       "      <td>0</td>\n",
       "      <td>0</td>\n",
       "    </tr>\n",
       "    <tr>\n",
       "      <th>2</th>\n",
       "      <td>15</td>\n",
       "      <td>26</td>\n",
       "      <td>M</td>\n",
       "      <td>46000</td>\n",
       "      <td>8</td>\n",
       "      <td>1</td>\n",
       "      <td>1</td>\n",
       "      <td>10</td>\n",
       "      <td>10</td>\n",
       "      <td>168</td>\n",
       "      <td>1</td>\n",
       "      <td>1</td>\n",
       "      <td>1</td>\n",
       "      <td>0</td>\n",
       "      <td>1</td>\n",
       "      <td>0</td>\n",
       "      <td>0</td>\n",
       "    </tr>\n",
       "    <tr>\n",
       "      <th>3</th>\n",
       "      <td>17</td>\n",
       "      <td>49</td>\n",
       "      <td>M</td>\n",
       "      <td>52000</td>\n",
       "      <td>8</td>\n",
       "      <td>1</td>\n",
       "      <td>1</td>\n",
       "      <td>10</td>\n",
       "      <td>10</td>\n",
       "      <td>168</td>\n",
       "      <td>1</td>\n",
       "      <td>1</td>\n",
       "      <td>1</td>\n",
       "      <td>0</td>\n",
       "      <td>1</td>\n",
       "      <td>0</td>\n",
       "      <td>0</td>\n",
       "    </tr>\n",
       "    <tr>\n",
       "      <th>4</th>\n",
       "      <td>20</td>\n",
       "      <td>61</td>\n",
       "      <td>F</td>\n",
       "      <td>40000</td>\n",
       "      <td>4</td>\n",
       "      <td>0</td>\n",
       "      <td>1</td>\n",
       "      <td>10</td>\n",
       "      <td>10</td>\n",
       "      <td>168</td>\n",
       "      <td>1</td>\n",
       "      <td>1</td>\n",
       "      <td>1</td>\n",
       "      <td>0</td>\n",
       "      <td>1</td>\n",
       "      <td>0</td>\n",
       "      <td>0</td>\n",
       "    </tr>\n",
       "    <tr>\n",
       "      <th>...</th>\n",
       "      <td>...</td>\n",
       "      <td>...</td>\n",
       "      <td>...</td>\n",
       "      <td>...</td>\n",
       "      <td>...</td>\n",
       "      <td>...</td>\n",
       "      <td>...</td>\n",
       "      <td>...</td>\n",
       "      <td>...</td>\n",
       "      <td>...</td>\n",
       "      <td>...</td>\n",
       "      <td>...</td>\n",
       "      <td>...</td>\n",
       "      <td>...</td>\n",
       "      <td>...</td>\n",
       "      <td>...</td>\n",
       "      <td>...</td>\n",
       "    </tr>\n",
       "    <tr>\n",
       "      <th>55217</th>\n",
       "      <td>16982</td>\n",
       "      <td>84</td>\n",
       "      <td>M</td>\n",
       "      <td>93000</td>\n",
       "      <td>6</td>\n",
       "      <td>0</td>\n",
       "      <td>10</td>\n",
       "      <td>2</td>\n",
       "      <td>10</td>\n",
       "      <td>168</td>\n",
       "      <td>1</td>\n",
       "      <td>1</td>\n",
       "      <td>0</td>\n",
       "      <td>1</td>\n",
       "      <td>0</td>\n",
       "      <td>0</td>\n",
       "      <td>1</td>\n",
       "    </tr>\n",
       "    <tr>\n",
       "      <th>55218</th>\n",
       "      <td>16985</td>\n",
       "      <td>75</td>\n",
       "      <td>F</td>\n",
       "      <td>78000</td>\n",
       "      <td>6</td>\n",
       "      <td>0</td>\n",
       "      <td>10</td>\n",
       "      <td>2</td>\n",
       "      <td>10</td>\n",
       "      <td>168</td>\n",
       "      <td>1</td>\n",
       "      <td>1</td>\n",
       "      <td>0</td>\n",
       "      <td>1</td>\n",
       "      <td>0</td>\n",
       "      <td>0</td>\n",
       "      <td>1</td>\n",
       "    </tr>\n",
       "    <tr>\n",
       "      <th>55219</th>\n",
       "      <td>16989</td>\n",
       "      <td>64</td>\n",
       "      <td>M</td>\n",
       "      <td>51000</td>\n",
       "      <td>4</td>\n",
       "      <td>0</td>\n",
       "      <td>10</td>\n",
       "      <td>2</td>\n",
       "      <td>10</td>\n",
       "      <td>168</td>\n",
       "      <td>1</td>\n",
       "      <td>1</td>\n",
       "      <td>0</td>\n",
       "      <td>1</td>\n",
       "      <td>0</td>\n",
       "      <td>0</td>\n",
       "      <td>1</td>\n",
       "    </tr>\n",
       "    <tr>\n",
       "      <th>55220</th>\n",
       "      <td>16993</td>\n",
       "      <td>21</td>\n",
       "      <td>F</td>\n",
       "      <td>72000</td>\n",
       "      <td>5</td>\n",
       "      <td>0</td>\n",
       "      <td>10</td>\n",
       "      <td>2</td>\n",
       "      <td>10</td>\n",
       "      <td>168</td>\n",
       "      <td>1</td>\n",
       "      <td>1</td>\n",
       "      <td>0</td>\n",
       "      <td>1</td>\n",
       "      <td>0</td>\n",
       "      <td>0</td>\n",
       "      <td>1</td>\n",
       "    </tr>\n",
       "    <tr>\n",
       "      <th>55221</th>\n",
       "      <td>16994</td>\n",
       "      <td>60</td>\n",
       "      <td>M</td>\n",
       "      <td>113000</td>\n",
       "      <td>4</td>\n",
       "      <td>0</td>\n",
       "      <td>10</td>\n",
       "      <td>2</td>\n",
       "      <td>10</td>\n",
       "      <td>168</td>\n",
       "      <td>1</td>\n",
       "      <td>1</td>\n",
       "      <td>0</td>\n",
       "      <td>1</td>\n",
       "      <td>0</td>\n",
       "      <td>0</td>\n",
       "      <td>1</td>\n",
       "    </tr>\n",
       "  </tbody>\n",
       "</table>\n",
       "<p>55222 rows × 17 columns</p>\n",
       "</div>"
      ],
      "text/plain": [
       "       customer_id  age gender  income  years_member  offer_complete_status  \\\n",
       "0                4   75      F  100000             5                      1   \n",
       "1               14   61      F   57000             5                      1   \n",
       "2               15   26      M   46000             8                      1   \n",
       "3               17   49      M   52000             8                      1   \n",
       "4               20   61      F   40000             4                      0   \n",
       "...            ...  ...    ...     ...           ...                    ...   \n",
       "55217        16982   84      M   93000             6                      0   \n",
       "55218        16985   75      F   78000             6                      0   \n",
       "55219        16989   64      M   51000             4                      0   \n",
       "55220        16993   21      F   72000             5                      0   \n",
       "55221        16994   60      M  113000             4                      0   \n",
       "\n",
       "       offer_id  reward  difficulty  duration  email  mobile  social  web  \\\n",
       "0             1      10          10       168      1       1       1    0   \n",
       "1             1      10          10       168      1       1       1    0   \n",
       "2             1      10          10       168      1       1       1    0   \n",
       "3             1      10          10       168      1       1       1    0   \n",
       "4             1      10          10       168      1       1       1    0   \n",
       "...         ...     ...         ...       ...    ...     ...     ...  ...   \n",
       "55217        10       2          10       168      1       1       0    1   \n",
       "55218        10       2          10       168      1       1       0    1   \n",
       "55219        10       2          10       168      1       1       0    1   \n",
       "55220        10       2          10       168      1       1       0    1   \n",
       "55221        10       2          10       168      1       1       0    1   \n",
       "\n",
       "       bogo  informational  discount  \n",
       "0         1              0         0  \n",
       "1         1              0         0  \n",
       "2         1              0         0  \n",
       "3         1              0         0  \n",
       "4         1              0         0  \n",
       "...     ...            ...       ...  \n",
       "55217     0              0         1  \n",
       "55218     0              0         1  \n",
       "55219     0              0         1  \n",
       "55220     0              0         1  \n",
       "55221     0              0         1  \n",
       "\n",
       "[55222 rows x 17 columns]"
      ]
     },
     "execution_count": 4,
     "metadata": {},
     "output_type": "execute_result"
    }
   ],
   "source": [
    "master_df"
   ]
  },
  {
   "cell_type": "code",
   "execution_count": 5,
   "id": "26e95e7d",
   "metadata": {},
   "outputs": [
    {
     "data": {
      "text/plain": [
       "101"
      ]
     },
     "execution_count": 5,
     "metadata": {},
     "output_type": "execute_result"
    }
   ],
   "source": [
    "master_df['age'].max()"
   ]
  },
  {
   "cell_type": "code",
   "execution_count": 9,
   "id": "05c03c67",
   "metadata": {},
   "outputs": [
    {
     "data": {
      "text/plain": [
       "58     1552\n",
       "53     1386\n",
       "51     1370\n",
       "57     1338\n",
       "59     1327\n",
       "       ... \n",
       "100      41\n",
       "96       34\n",
       "99       18\n",
       "101      18\n",
       "98       17\n",
       "Name: age, Length: 84, dtype: int64"
      ]
     },
     "execution_count": 9,
     "metadata": {},
     "output_type": "execute_result"
    }
   ],
   "source": [
    "master_df['age'].value_counts()"
   ]
  },
  {
   "cell_type": "code",
   "execution_count": null,
   "id": "86495080",
   "metadata": {},
   "outputs": [],
   "source": [
    "import jenkspy\n",
    "breaks = jenkspy.jenks_breaks(master_df['age'], nb_class=nb_age)"
   ]
  },
  {
   "cell_type": "code",
   "execution_count": null,
   "id": "0726baba",
   "metadata": {},
   "outputs": [],
   "source": [
    "breaks=[17.9,33.1,48.1,61.1,75.1,102]"
   ]
  },
  {
   "cell_type": "code",
   "execution_count": null,
   "id": "1ff485e9",
   "metadata": {},
   "outputs": [],
   "source": [
    "labels=[]\n",
    "for i in breaks:\n",
    "    labels.append(str(i))"
   ]
  },
  {
   "cell_type": "code",
   "execution_count": null,
   "id": "e79083b2",
   "metadata": {},
   "outputs": [],
   "source": [
    "master_df['age_bin'] = pd.cut(master_df['age'] , bins=breaks, labels=labels[:-1], include_lowest=True)"
   ]
  },
  {
   "cell_type": "code",
   "execution_count": null,
   "id": "a7efe632",
   "metadata": {},
   "outputs": [],
   "source": [
    "master_df['age_bin'].hist(figsize=(20,10))"
   ]
  },
  {
   "cell_type": "code",
   "execution_count": null,
   "id": "dcf70b7b",
   "metadata": {},
   "outputs": [],
   "source": [
    "breaks_income = jenkspy.jenks_breaks(master_df['income'], nb_class=nb_income)\n",
    "labels=[]\n",
    "for i in breaks_income:\n",
    "    labels.append(str(i))\n"
   ]
  },
  {
   "cell_type": "code",
   "execution_count": null,
   "id": "a35b3174",
   "metadata": {},
   "outputs": [],
   "source": [
    "breaks_income=[0,50000.1,80000.1,120000.1]\n",
    "labels=['low','middle','rich']"
   ]
  },
  {
   "cell_type": "code",
   "execution_count": null,
   "id": "b08cc702",
   "metadata": {},
   "outputs": [],
   "source": [
    "master_df['income_bin'] = pd.cut(master_df['income'] , bins=breaks_income, labels=labels, include_lowest=True)\n",
    "master_df['income_bin'].hist(figsize=(20,10))"
   ]
  },
  {
   "cell_type": "code",
   "execution_count": null,
   "id": "5fff0c60",
   "metadata": {},
   "outputs": [],
   "source": [
    "breaks_years_member=[0,5.1,9.1]\n",
    "labels=['below five','above five']\n",
    "\n"
   ]
  },
  {
   "cell_type": "code",
   "execution_count": null,
   "id": "7f44c074",
   "metadata": {},
   "outputs": [],
   "source": [
    "breaks_years_member"
   ]
  },
  {
   "cell_type": "code",
   "execution_count": null,
   "id": "8f6b3790",
   "metadata": {},
   "outputs": [],
   "source": [
    "master_df['years_member'].hist()"
   ]
  },
  {
   "cell_type": "code",
   "execution_count": null,
   "id": "59b0c9d9",
   "metadata": {},
   "outputs": [],
   "source": [
    "master_df['years_member_bin'] = pd.cut(master_df['years_member'] , bins=breaks_years_member, labels=labels, include_lowest=True)"
   ]
  },
  {
   "cell_type": "code",
   "execution_count": null,
   "id": "ac51eadd",
   "metadata": {},
   "outputs": [],
   "source": [
    "master_df['years_member_bin'].hist()"
   ]
  },
  {
   "cell_type": "code",
   "execution_count": null,
   "id": "6591b007",
   "metadata": {},
   "outputs": [],
   "source": [
    "master_df['reward'].hist()"
   ]
  },
  {
   "cell_type": "code",
   "execution_count": null,
   "id": "4715e091",
   "metadata": {},
   "outputs": [],
   "source": [
    "breaks_reward=[0.0,1.9,4.1,6.1,10.1]\n",
    "labels=['very low','low','high','very high']\n",
    "master_df['reward_bin'] = pd.cut(master_df['reward'] , bins=breaks_reward, labels=labels, include_lowest=True)\n",
    "master_df['reward_bin'].hist()"
   ]
  },
  {
   "cell_type": "code",
   "execution_count": null,
   "id": "6fe5a5c4",
   "metadata": {},
   "outputs": [],
   "source": [
    "breaks_difficulty=[0.0,4.9,7.1,10.1,20.1]\n",
    "labels=['very easy','easy','moderate','hard']\n",
    "master_df['difficulty_bin'] = pd.cut(master_df['difficulty'] , bins=breaks_difficulty, labels=labels, include_lowest=True)\n",
    "master_df['difficulty_bin'].hist()"
   ]
  },
  {
   "cell_type": "code",
   "execution_count": null,
   "id": "b5bae05f",
   "metadata": {},
   "outputs": [],
   "source": [
    "breaks_duration=[0.0,4.9,7.1,10.1,20.1]\n",
    "labels=['very easy','easy','moderate','hard']\n",
    "master_df['difficulty_bin'] = pd.cut(master_df['difficulty'] , bins=breaks_difficulty, labels=labels, include_lowest=True)\n",
    "master_df['difficulty_bin'].hist()"
   ]
  },
  {
   "cell_type": "code",
   "execution_count": null,
   "id": "3bf375da",
   "metadata": {},
   "outputs": [],
   "source": [
    "breaks_duration=[70,121,169,241]\n",
    "labels=['less time','moderate time','abundant time']\n",
    "master_df['duration_bin'] = pd.cut(master_df['duration'] , bins=breaks_duration, labels=labels, include_lowest=True)\n",
    "master_df['duration_bin'].hist()"
   ]
  },
  {
   "cell_type": "code",
   "execution_count": null,
   "id": "7245929d",
   "metadata": {},
   "outputs": [],
   "source": [
    "master_df['duration'].value_counts()"
   ]
  },
  {
   "cell_type": "code",
   "execution_count": null,
   "id": "805d9be5",
   "metadata": {},
   "outputs": [],
   "source": [
    "master_df['email'].hist()\n"
   ]
  },
  {
   "cell_type": "markdown",
   "id": "c9653583",
   "metadata": {},
   "source": [
    "As the value of email is always confined to 1, its better not to consider 'email' column"
   ]
  },
  {
   "cell_type": "code",
   "execution_count": null,
   "id": "c121ecc2",
   "metadata": {},
   "outputs": [],
   "source": [
    "master_df['mobile'].hist()"
   ]
  },
  {
   "cell_type": "code",
   "execution_count": null,
   "id": "92dd2db9",
   "metadata": {},
   "outputs": [],
   "source": [
    "master_df['social'].hist()"
   ]
  },
  {
   "cell_type": "code",
   "execution_count": null,
   "id": "d958964a",
   "metadata": {},
   "outputs": [],
   "source": [
    "master_df['web'].hist()"
   ]
  },
  {
   "cell_type": "code",
   "execution_count": null,
   "id": "650688d1",
   "metadata": {},
   "outputs": [],
   "source": [
    "columns=master_df.columns.to_list()"
   ]
  },
  {
   "cell_type": "code",
   "execution_count": null,
   "id": "411ca299",
   "metadata": {},
   "outputs": [],
   "source": [
    "columns"
   ]
  },
  {
   "cell_type": "code",
   "execution_count": null,
   "id": "04b857d5",
   "metadata": {},
   "outputs": [],
   "source": [
    "master_df.drop({'customer_id','age','income','years_member','offer_id','reward','difficulty','duration'},axis=1,inplace=True)"
   ]
  },
  {
   "cell_type": "code",
   "execution_count": null,
   "id": "cdd85b0a",
   "metadata": {},
   "outputs": [],
   "source": [
    "master_df[['gender','age_bin','income_bin','years_member_bin','reward_bin','difficulty_bin',\n",
    "           'duration_bin','offer_complete_status','mobile','social','web','bogo','informational','discount']]"
   ]
  },
  {
   "cell_type": "code",
   "execution_count": null,
   "id": "d0ca14ff",
   "metadata": {},
   "outputs": [],
   "source": []
  },
  {
   "cell_type": "markdown",
   "id": "98eba486",
   "metadata": {},
   "source": [
    "# Modeling"
   ]
  },
  {
   "cell_type": "code",
   "execution_count": null,
   "id": "90a6a4d2",
   "metadata": {},
   "outputs": [],
   "source": [
    "from sklearn.preprocessing import LabelEncoder\n",
    "labelencoder = LabelEncoder()\n",
    "master_df['gender']=labelencoder.fit_transform(master_df['gender'])\n",
    "master_df['age_bin']=labelencoder.fit_transform(master_df['age_bin'])\n",
    "master_df['income_bin']=labelencoder.fit_transform(master_df['income_bin'])\n",
    "master_df['years_member_bin']=labelencoder.fit_transform(master_df['years_member_bin'])\n",
    "master_df['reward_bin']=labelencoder.fit_transform(master_df['reward_bin'])\n",
    "master_df['difficulty_bin']=labelencoder.fit_transform(master_df['difficulty_bin'])\n",
    "master_df['duration_bin']=labelencoder.fit_transform(master_df['duration_bin'])\n"
   ]
  },
  {
   "cell_type": "code",
   "execution_count": null,
   "id": "0cfcfe16",
   "metadata": {},
   "outputs": [],
   "source": [
    "X=master_df[['gender','age_bin','income_bin','years_member_bin','reward_bin','difficulty_bin','duration_bin',\n",
    "             'mobile','social','web','email']]\n",
    "y=master_df['offer_complete_status']"
   ]
  },
  {
   "cell_type": "code",
   "execution_count": null,
   "id": "09406ba4",
   "metadata": {},
   "outputs": [],
   "source": [
    "X"
   ]
  },
  {
   "cell_type": "code",
   "execution_count": null,
   "id": "ed71a833",
   "metadata": {},
   "outputs": [],
   "source": [
    "y"
   ]
  },
  {
   "cell_type": "code",
   "execution_count": null,
   "id": "01338372",
   "metadata": {},
   "outputs": [],
   "source": [
    "from sklearn.model_selection import train_test_split\n",
    "X_train, X_test, y_train, y_test = train_test_split(X, y, test_size=0.20, random_state=0)"
   ]
  },
  {
   "cell_type": "code",
   "execution_count": null,
   "id": "d285718b",
   "metadata": {},
   "outputs": [],
   "source": [
    "from sklearn.ensemble import RandomForestClassifier\n",
    "\n",
    "rfc =RandomForestClassifier(random_state=10)"
   ]
  },
  {
   "cell_type": "code",
   "execution_count": null,
   "id": "bdf22b0d",
   "metadata": {},
   "outputs": [],
   "source": [
    "rfc.fit(X_train, y_train)"
   ]
  },
  {
   "cell_type": "code",
   "execution_count": null,
   "id": "d49c1100",
   "metadata": {},
   "outputs": [],
   "source": [
    "y_pred=rfc.predict(X_test)"
   ]
  },
  {
   "cell_type": "code",
   "execution_count": null,
   "id": "e8725ae5",
   "metadata": {},
   "outputs": [],
   "source": [
    "from sklearn.metrics import classification_report\n",
    "import numpy as np\n",
    "from sklearn.metrics import f1_score,confusion_matrix, classification_report"
   ]
  },
  {
   "cell_type": "code",
   "execution_count": null,
   "id": "5ce01854",
   "metadata": {},
   "outputs": [],
   "source": [
    "\n",
    "labels=np.unique(y_test)\n",
    "print(classification_report(y_test, y_pred, labels = labels))\n",
    "print(\"f1 Score\",f1_score(y_test, y_pred))\n",
    "print(\"Labels:\", labels)\n",
    "print(\"Confusion Matrix:\\n\", confusion_matrix(y_test.values, y_pred, labels = labels))\n",
    "print(\"The selected value for nbin age :\",len(breaks)-1)\n",
    "print(\"The selected value for nbin income :\",len(breaks_income)-1)"
   ]
  },
  {
   "cell_type": "code",
   "execution_count": null,
   "id": "a9bbf227",
   "metadata": {},
   "outputs": [],
   "source": [
    "cm=confusion_matrix(y_test.values, y_pred, labels = labels)\n",
    "report=classification_report(y_test, y_pred, labels = labels)"
   ]
  },
  {
   "cell_type": "code",
   "execution_count": null,
   "id": "a48754a0",
   "metadata": {},
   "outputs": [],
   "source": [
    "importance = rfc.feature_importances_"
   ]
  },
  {
   "cell_type": "code",
   "execution_count": null,
   "id": "78e8b968",
   "metadata": {},
   "outputs": [],
   "source": [
    "import matplotlib.pyplot as plt "
   ]
  },
  {
   "cell_type": "code",
   "execution_count": null,
   "id": "0c00b477",
   "metadata": {},
   "outputs": [],
   "source": [
    "feat_importances = pd.Series(rfc.feature_importances_, index=X.columns)\n",
    "feat_importances.nlargest(20).plot(kind='barh',figsize=(20,10))"
   ]
  },
  {
   "cell_type": "markdown",
   "id": "c077cf08",
   "metadata": {},
   "source": [
    "gender,age,income\n",
    "M,y(18-24),LI\n",
    "M,y(18-24),M\n",
    "M,y(18-24),R\n",
    "M,y(18-24),"
   ]
  },
  {
   "cell_type": "code",
   "execution_count": null,
   "id": "b9d909ab",
   "metadata": {},
   "outputs": [],
   "source": [
    "feat_importances.sum()"
   ]
  },
  {
   "cell_type": "code",
   "execution_count": null,
   "id": "4afb755a",
   "metadata": {},
   "outputs": [],
   "source": [
    "feat_importances"
   ]
  },
  {
   "cell_type": "code",
   "execution_count": null,
   "id": "8c64e1aa",
   "metadata": {},
   "outputs": [],
   "source": [
    "from xgboost import XGBClassifier\n",
    "xgb = XGBClassifier(use_label_encoder=False,eval_metric = 'error',random_state=10)\n",
    "xgb.fit(X_train, y_train)\n",
    "y_pred=xgb.predict(X_test)"
   ]
  },
  {
   "cell_type": "code",
   "execution_count": null,
   "id": "f5731290",
   "metadata": {},
   "outputs": [],
   "source": [
    "feat_importances = pd.Series(xgb.feature_importances_, index=X.columns)\n",
    "feat_importances.nlargest(20).plot(kind='barh',figsize=(20,10))"
   ]
  },
  {
   "cell_type": "code",
   "execution_count": null,
   "id": "773c6648",
   "metadata": {},
   "outputs": [],
   "source": [
    "labels=np.unique(y_test)\n",
    "print(classification_report(y_test, y_pred, labels = labels))\n",
    "print(\"f1 Score\",f1_score(y_test, y_pred))\n",
    "print(\"Labels:\", labels)\n",
    "print(\"Confusion Matrix:\\n\", confusion_matrix(y_test.values, y_pred, labels = labels))\n",
    "print(\"The selected value for nbin age :\",len(breaks)-1)\n",
    "print(\"The selected value for nbin income :\",len(breaks_income)-1)"
   ]
  },
  {
   "cell_type": "code",
   "execution_count": null,
   "id": "868c5a19",
   "metadata": {},
   "outputs": [],
   "source": []
  }
 ],
 "metadata": {
  "kernelspec": {
   "display_name": "Python 3 (ipykernel)",
   "language": "python",
   "name": "python3"
  },
  "language_info": {
   "codemirror_mode": {
    "name": "ipython",
    "version": 3
   },
   "file_extension": ".py",
   "mimetype": "text/x-python",
   "name": "python",
   "nbconvert_exporter": "python",
   "pygments_lexer": "ipython3",
   "version": "3.9.7"
  }
 },
 "nbformat": 4,
 "nbformat_minor": 5
}
